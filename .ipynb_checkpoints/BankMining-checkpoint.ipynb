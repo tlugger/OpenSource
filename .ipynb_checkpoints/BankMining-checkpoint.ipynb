{
 "cells": [
  {
   "cell_type": "code",
   "execution_count": 5,
   "metadata": {
    "collapsed": true
   },
   "outputs": [],
   "source": [
    "import pandas as pd\n",
    "import numpy as np\n",
    "import matplotlib as plt\n",
    "loans = pd.read_csv(\"LOAN-train.csv\")"
   ]
  },
  {
   "cell_type": "code",
   "execution_count": 11,
   "metadata": {
    "collapsed": false
   },
   "outputs": [
    {
     "name": "stdout",
     "output_type": "stream",
     "text": [
      "614\n"
     ]
    }
   ],
   "source": [
    "def rowCount():\n",
    "    return len(loans)\n",
    "\n",
    "print(rowCount())"
   ]
  },
  {
   "cell_type": "code",
   "execution_count": null,
   "metadata": {
    "collapsed": false
   },
   "outputs": [],
   "source": [
    "loans.head(6) # check first 6 lines of data"
   ]
  },
  {
   "cell_type": "code",
   "execution_count": null,
   "metadata": {
    "collapsed": false
   },
   "outputs": [],
   "source": [
    "loans.describe() # numerical data"
   ]
  },
  {
   "cell_type": "code",
   "execution_count": null,
   "metadata": {
    "collapsed": false
   },
   "outputs": [],
   "source": [
    "print(loans['Property_Area'].head(7)) # looking at a specific column of the data"
   ]
  },
  {
   "cell_type": "code",
   "execution_count": null,
   "metadata": {
    "collapsed": false
   },
   "outputs": [],
   "source": [
    "loans['Property_Area'].value_counts() # count occurances of each of the three values"
   ]
  },
  {
   "cell_type": "code",
   "execution_count": null,
   "metadata": {
    "collapsed": false
   },
   "outputs": [],
   "source": [
    "loans['ApplicantIncome'].hist(bins=50)"
   ]
  },
  {
   "cell_type": "code",
   "execution_count": null,
   "metadata": {
    "collapsed": false
   },
   "outputs": [],
   "source": [
    "loans.boxplot(column='ApplicantIncome')"
   ]
  },
  {
   "cell_type": "code",
   "execution_count": null,
   "metadata": {
    "collapsed": false
   },
   "outputs": [],
   "source": [
    "loans.boxplot(column='ApplicantIncome', by='Education')"
   ]
  },
  {
   "cell_type": "code",
   "execution_count": null,
   "metadata": {
    "collapsed": false
   },
   "outputs": [],
   "source": [
    "loans['LoanAmount'].hist(bins=50)"
   ]
  },
  {
   "cell_type": "code",
   "execution_count": null,
   "metadata": {
    "collapsed": false
   },
   "outputs": [],
   "source": [
    "loans.boxplot(column='LoanAmount')"
   ]
  },
  {
   "cell_type": "code",
   "execution_count": null,
   "metadata": {
    "collapsed": false
   },
   "outputs": [],
   "source": [
    "print('Frequency Rable for Credit History')\n",
    "temp1 = loans['Credit_History'].value_counts(ascending=True)\n",
    "print(temp1)"
   ]
  },
  {
   "cell_type": "code",
   "execution_count": null,
   "metadata": {
    "collapsed": false
   },
   "outputs": [],
   "source": [
    "print(\"\\nProbability of getting a loan for each Credit History class: \")\n",
    "temp2 = loans.pivot_table(values='Loan_Status',index=['Credit_History'],aggfunc=lambda x: x.map({'Y':1,'N':0}).mean())\n",
    "print(temp2)"
   ]
  },
  {
   "cell_type": "code",
   "execution_count": null,
   "metadata": {
    "collapsed": false
   },
   "outputs": [],
   "source": [
    "# Adding gender\n",
    "\n",
    "print(\"\\nProbability of getting a loan for each Credit History class BY GENDER: \")\n",
    "temp2gender = loans.pivot_table(values='Loan_Status',index=['Credit_History', 'Gender'],aggfunc=lambda x: x.map({'Y':1,'N':0}).mean())\n",
    "print(temp2gender)"
   ]
  },
  {
   "cell_type": "code",
   "execution_count": null,
   "metadata": {
    "collapsed": false
   },
   "outputs": [],
   "source": [
    "import matplotlib.pyplot as plt\n",
    "fig = plt.figure(figsize=(12,3))\n",
    "ax1 = fig.add_subplot(121)\n",
    "ax1.set_xlabel('Credit_History')\n",
    "ax1.set_ylabel('Count of Applicants')\n",
    "ax1.set_title(\"Applicants by Credit History\")\n",
    "temp1.plot(kind='bar')\n",
    "\n",
    "ax2 = fig.add_subplot(122)\n",
    "temp2.plot(kind='bar')\n",
    "ax2.set_xlabel('Credit_History')\n",
    "ax2.set_ylabel('Probability of getting a loan')\n",
    "ax2.set_title(\"Probability of getting a loan by credit history\")\n",
    "\n",
    "fig2 = plt.figure(2)\n",
    "fig2 = plt.figure(figsize=(12,3))\n",
    "ax3 = fig2.add_subplot(223)\n",
    "temp2gender.plot(kind='bar', color=['red','blue'])\n",
    "ax3.set_xlabel('Credit_History by Gender')\n",
    "ax3.set_ylabel('Probability of getting a loan')\n",
    "ax3.set_title('Probability of getting a loan by credit history and gender')"
   ]
  },
  {
   "cell_type": "code",
   "execution_count": null,
   "metadata": {
    "collapsed": false
   },
   "outputs": [],
   "source": [
    "N=2\n",
    "width = 0.35\n",
    "ind = np.arange(N)\n",
    "#Data\n",
    "alldata = loans.pivot_table(values='Loan_Status',index=['Gender','Credit_History'],aggfunc=lambda x: x.map({'Y':1,'N':0}).mean())\n",
    "print(alldata)\n",
    "mendata = alldata['Male']\n",
    "print(\"\\nMen data\")\n",
    "print(mendata)\n",
    "womendata = alldata['Female']\n",
    "print(\"\\nWomen data\")\n",
    "print(womendata)"
   ]
  },
  {
   "cell_type": "code",
   "execution_count": null,
   "metadata": {
    "collapsed": false,
    "scrolled": true
   },
   "outputs": [],
   "source": [
    "# Creating a stacked bar chart to compare men and women probabilities\n",
    "p1 = plt.bar(ind,mendata,width,color='#d62728')\n",
    "p2 = plt.bar(ind,womendata,width)\n",
    "plt.xlabel(\"Credit_History\")\n",
    "plt.ylabel(\"Probability of Loan\")\n",
    "plt.title(\"Probability of getting loan on credit history and gender\")\n",
    "plt.legend((p1[0],p2[0]), ('Men', 'Women'))\n",
    "plt.xticks(ind,('0','1'))\n",
    "plt.show"
   ]
  },
  {
   "cell_type": "code",
   "execution_count": null,
   "metadata": {
    "collapsed": false
   },
   "outputs": [],
   "source": [
    "temp3 = pd.crosstab(loans['Credit_History'], loans['Loan_Status'])\n",
    "temp3.plot(kind='bar',stacked=True,color=['red','blue'],grid=False) "
   ]
  },
  {
   "cell_type": "code",
   "execution_count": null,
   "metadata": {
    "collapsed": false
   },
   "outputs": [],
   "source": [
    "t3 = pd.crosstab([loans['Credit_History'],loans['Gender']],loans['Loan_Status'])\n",
    "t3.plot(kind='bar',stacked=True,color=['red','blue'],grid=False)"
   ]
  },
  {
   "cell_type": "code",
   "execution_count": null,
   "metadata": {
    "collapsed": false
   },
   "outputs": [],
   "source": [
    "loans"
   ]
  },
  {
   "cell_type": "code",
   "execution_count": null,
   "metadata": {
    "collapsed": false
   },
   "outputs": [],
   "source": [
    "# Create a new function\n",
    "def num_missing(x):\n",
    "    return(sum(x.isnull()))\n",
    "\n",
    "# Apply per column\n",
    "print(\"missing values per column:\")\n",
    "print(loans.apply(num_missing, axis=0))\n",
    "\n",
    "# Apply per row:\n",
    "print(\"\\nMissing values per row:\")\n",
    "print(loans.apply(num_missing, axis=1).head())"
   ]
  },
  {
   "cell_type": "code",
   "execution_count": null,
   "metadata": {
    "collapsed": false
   },
   "outputs": [],
   "source": [
    "loans['LoanAmount'].fillna(loans['LoanAmount'].mean(),inplace=True) # Fill missing LoanAmounts with the mean of known amounts\n",
    "loans.head(1) # This first value initially had 'NaN' but now contains a value"
   ]
  },
  {
   "cell_type": "code",
   "execution_count": null,
   "metadata": {
    "collapsed": false
   },
   "outputs": [],
   "source": [
    "from scipy.stats import mode\n",
    "print(loans['Gender'].mode()[0])"
   ]
  },
  {
   "cell_type": "code",
   "execution_count": null,
   "metadata": {
    "collapsed": true
   },
   "outputs": [],
   "source": [
    "# Fill in 'NaN' values for genders with most common gender\n",
    "loans['Gender'].fillna(loans['Gender'].mode()[0], inplace=True)"
   ]
  },
  {
   "cell_type": "code",
   "execution_count": null,
   "metadata": {
    "collapsed": false
   },
   "outputs": [],
   "source": [
    "# Fill in 'NaN' values for marriges with most common marrige status\n",
    "loans['Married'].fillna(loans['Married'].mode()[0], inplace=True)\n",
    "print(loans['Married'].mode()[0])"
   ]
  },
  {
   "cell_type": "code",
   "execution_count": null,
   "metadata": {
    "collapsed": false
   },
   "outputs": [],
   "source": [
    "# Fill in 'NaN' values for self employeed with most common self employeed status\n",
    "loans['Self_Employed'].fillna(loans['Self_Employed'].mode()[0], inplace=True)\n",
    "print(loans['Self_Employed'].mode()[0])"
   ]
  },
  {
   "cell_type": "markdown",
   "metadata": {
    "collapsed": true
   },
   "source": [
    "We filled in the LoanAmount based on the median, a simple calculation.\n",
    "A better one would be based on the median for similar Self_Employeed and Education."
   ]
  },
  {
   "cell_type": "code",
   "execution_count": null,
   "metadata": {
    "collapsed": false
   },
   "outputs": [],
   "source": [
    "table = loans.pivot_table(values='LoanAmount', index='Self_Employed', columns='Education', aggfunc=np.median)\n",
    "print(table)\n",
    "# Values of this table are loan amoounts indexed by whether or not they're self employeed and a graduate or not."
   ]
  },
  {
   "cell_type": "code",
   "execution_count": null,
   "metadata": {
    "collapsed": true
   },
   "outputs": [],
   "source": [
    "def fage(x):\n",
    "    return table.loc(x['Self_Employed'],x['Education'])"
   ]
  },
  {
   "cell_type": "code",
   "execution_count": null,
   "metadata": {
    "collapsed": false
   },
   "outputs": [],
   "source": [
    "tableCH_SExEdu = loans.pivot_table(values='Credit_History', index='Self_Employed', columns='Education', aggfunc=np.median)\n",
    "print(tableCH_SExEdu)\n",
    "# It looks like all of the midean values for credit histories is 1"
   ]
  },
  {
   "cell_type": "code",
   "execution_count": null,
   "metadata": {
    "collapsed": true
   },
   "outputs": [],
   "source": [
    "def ffch(x):\n",
    "    return tableCH_SExEdu.loc(x['Self_Employed'], x['Education'])\n",
    "\n",
    "#loans['Credit_History'].fillna(loans[loans['Credit_History'].isnull()].apply(ffch,axis=1), inplace=True)"
   ]
  },
  {
   "cell_type": "code",
   "execution_count": null,
   "metadata": {
    "collapsed": false
   },
   "outputs": [],
   "source": [
    "t2 = pd.crosstab([loans['Self_Employed'], loans['Education']], loans['Dependents'])\n",
    "print(t2)"
   ]
  },
  {
   "cell_type": "code",
   "execution_count": null,
   "metadata": {
    "collapsed": true
   },
   "outputs": [],
   "source": [
    "def coding(col, codeDict):\n",
    "    colCoded = pd.Series(col, copy=True)\n",
    "    for key, value in codeDict.items():\n",
    "        colCoded.replace(key, value, inplace=True)\n",
    "    return colCoded\n",
    "\n",
    "loans['Dependents_Encoded'] = coding(loans['Dependents'], {'0':0, '1':1, '2':2, '3+':3})"
   ]
  },
  {
   "cell_type": "code",
   "execution_count": null,
   "metadata": {
    "collapsed": false
   },
   "outputs": [],
   "source": [
    "#loans['Dependents_Encoded'] will now replace all 3+ with just 3\n",
    "\n",
    "print(loans['Dependents_Encoded'].median()) # Runs without error"
   ]
  },
  {
   "cell_type": "code",
   "execution_count": null,
   "metadata": {
    "collapsed": false
   },
   "outputs": [],
   "source": [
    "t3 = loans.pivot_table(values='Dependents_Encoded', index='Self_Employed', columns='Education', aggfunc=np.median)\n",
    "print(t3)"
   ]
  },
  {
   "cell_type": "code",
   "execution_count": null,
   "metadata": {
    "collapsed": false
   },
   "outputs": [],
   "source": [
    "def fixDependents(x):\n",
    "    return t3.loc[x['Self_Employed'], x['Education']]\n",
    "\n",
    "testRow = loans.iloc[598]\n",
    "print(fixDependents(testRow))"
   ]
  },
  {
   "cell_type": "code",
   "execution_count": null,
   "metadata": {
    "collapsed": true
   },
   "outputs": [],
   "source": []
  }
 ],
 "metadata": {
  "kernelspec": {
   "display_name": "Python 3",
   "language": "python",
   "name": "python3"
  },
  "language_info": {
   "codemirror_mode": {
    "name": "ipython",
    "version": 3
   },
   "file_extension": ".py",
   "mimetype": "text/x-python",
   "name": "python",
   "nbconvert_exporter": "python",
   "pygments_lexer": "ipython3",
   "version": "3.5.1"
  }
 },
 "nbformat": 4,
 "nbformat_minor": 1
}
